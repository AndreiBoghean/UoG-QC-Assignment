{
 "cells": [
  {
   "cell_type": "code",
   "execution_count": null,
   "id": "77c0196e-4446-4466-951c-13e1b59f9642",
   "metadata": {},
   "outputs": [],
   "source": [
    "%pip install qiskit==1.2.4\n",
    "%pip install qiskit-aer==0.15.1\n",
    "%pip install pylatexenc==2.10"
   ]
  },
  {
   "cell_type": "markdown",
   "id": "4434e87f-75a2-42f9-bdd8-7aca594ef7d6",
   "metadata": {},
   "source": [
    "steps:\n",
    "\n",
    "alice and bob want to establish a shared key made of N bits.\n",
    "\n",
    "## requirements\n",
    "start with a sequence of entangled pairs of qbits\n",
    "- could've been sent by a 3rd party\n",
    "- each pair is in state 1/sq2(|01> - |10>)\n",
    "\n",
    "## testing entanglement (see lecture 8 & lab 4B)\n",
    "to test the entanglement, (for each pair)\n",
    "1. alice chooses randomly Z or X.\n",
    "2. bob chooses randomly W = 1/sq2(X+Z) or V = 1/sq2(X-Z)\n",
    "3. Alice and Bob measure $S = |\\langle X \\otimes W \\rangle - \\langle X \\otimes V \\rangle + \\langle Z \\otimes W \\rangle + \\langle Z \\otimes V \\rangle|$\n",
    "- $\\langle X \\otimes W \\rangle$ is the avg value of the result of measuring.\n",
    "- measuring means:\n",
    "    1. measuring Alice's qbit in the basis corresponding to X **and**\n",
    "    2. measuring Bob's in the basis corresponding to W\n",
    "\n",
    "what is the basis coresponding to X or W?\n",
    "\n",
    "4. the result is converted {0, 1} $\\rightarrow$ {+1, -1}\n",
    "5. these values are multiplied together\n",
    "\n",
    "after doing this **for each pair**,\n",
    "the average values from that are added and then divided by the length of the sequence.\n",
    "\n",
    "\n",
    "\n",
    "bob and alice never measure in the same basis as each other,\n",
    "so they're never guaranteed to get the same result from both of their measurements.\n",
    "\n",
    "\n",
    "IF THE BASIS IS THE SAME.. THE RESULT IS GUARANTEED THE SAME"
   ]
  },
  {
   "cell_type": "code",
   "execution_count": 90,
   "id": "c16cd3de-f076-496b-8661-4b1efd19a244",
   "metadata": {},
   "outputs": [
    {
     "data": {
      "text/latex": [
       "$$\\frac{\\sqrt{2}}{2} |0\\rangle+\\frac{\\sqrt{2}}{2} |1\\rangle$$"
      ],
      "text/plain": [
       "<IPython.core.display.Latex object>"
      ]
     },
     "metadata": {},
     "output_type": "display_data"
    },
    {
     "data": {
      "text/latex": [
       "$$\\frac{\\sqrt{3}}{3} |0\\rangle+\\frac{\\sqrt{6}}{3} |1\\rangle$$"
      ],
      "text/plain": [
       "<IPython.core.display.Latex object>"
      ]
     },
     "metadata": {},
     "output_type": "display_data"
    },
    {
     "data": {
      "text/plain": [
       "1"
      ]
     },
     "execution_count": 90,
     "metadata": {},
     "output_type": "execute_result"
    }
   ],
   "source": [
    "from qiskit import QuantumCircuit\n",
    "from qiskit.converters import circuit_to_gate\n",
    "from qiskit.visualization import array_to_latex\n",
    "from qiskit.quantum_info import Operator\n",
    "from qiskit.quantum_info import Statevector\n",
    "from qiskit import transpile \n",
    "from qiskit.providers.basic_provider import BasicSimulator\n",
    "from qiskit.visualization import plot_histogram\n",
    "from qiskit.circuit import ControlledGate\n",
    "import math \n",
    "\n",
    "# The aim of the assignment is to simulate the Ekert91 key distribution protocol.\n",
    "\n",
    "# This notebook is for a simulation of the protocol without an attacker.\n",
    "\n",
    "def show_latex(circuit, bits):\n",
    "    state = Statevector.from_int(0, 2**bits)\n",
    "    state = state.evolve(circuit)\n",
    "    display(state.draw(\"latex\"))\n",
    "\n",
    "def randomProb(render=False, ZeroStat=1/2, phi=math.pi/2):\n",
    "    # note: this is is radians.\n",
    "    theta = 2 * math.acos(math.sqrt(ZeroStat) )    \n",
    "    \n",
    "    circuit = QuantumCircuit(1)\n",
    "    circuit.r(theta, phi, 0)\n",
    "    \n",
    "    # small interrupt to render latex for our state\n",
    "    if (render):\n",
    "        state = Statevector.from_int(0, 2**1)\n",
    "        state = state.evolve(circuit)\n",
    "        display(state.draw(\"latex\"))\n",
    "    \n",
    "    circuit.measure_all()\n",
    "    \n",
    "    backend = BasicSimulator()\n",
    "    compiled = transpile(circuit, backend)\n",
    "    job_sim = backend.run(compiled, shots=1)\n",
    "    results_sim = job_sim.result()\n",
    "    counts = results_sim.get_counts()\n",
    "    return int(list(counts.keys())[0])\n",
    "\n",
    "def random50(render=False):\n",
    "    return randomProb(render, 1/2, math.pi/2)\n",
    "\n",
    "def random33(render=False):\n",
    "    \"\"\"\n",
    "    -ie^-io sin(theta/2) = 2/sq(3)\n",
    "    theta = 1.91\n",
    "    i*-ie^-io  = i *  2/sq(3) / sin(1.91/2)\n",
    "    -io = ln(i *  2/sq(3) / sin(1.91/2))\n",
    "    o = ln(i *  2/sq(3) / sin(1.91/2)) / -i\n",
    "    \"\"\"\n",
    "    # math.log(i * 2/math.sqrt(3) / math.sin(theta/2), math.e)\n",
    "    # TODO ^ COME BACK TO THIS\n",
    "    \n",
    "    return randomProb(render, 1/3, phi=math.pi/2)\n",
    "\n",
    "\n",
    "random50(True)\n",
    "random33(True)\n",
    "# result = [random33() for i in range(1)]\n",
    "# print(result)\n",
    "# print(sum(result)/len(result))"
   ]
  },
  {
   "cell_type": "code",
   "execution_count": 111,
   "id": "1c3c3391-e855-46c5-9b2b-5948474ed06b",
   "metadata": {},
   "outputs": [
    {
     "data": {
      "text/latex": [
       "$$\\frac{\\sqrt{2}}{2} |01\\rangle- \\frac{\\sqrt{2}}{2} |10\\rangle$$"
      ],
      "text/plain": [
       "<IPython.core.display.Latex object>"
      ]
     },
     "metadata": {},
     "output_type": "display_data"
    },
    {
     "data": {
      "image/png": "[encoded data removed]",
      "text/plain": [
       "<Figure size 454.517x200.667 with 1 Axes>"
      ]
     },
     "metadata": {},
     "output_type": "display_data"
    }
   ],
   "source": [
    "finalKey = []\n",
    "S = {[1, 1]:0, [1,3]:0, [3,1]:0, [3,3]:0}\n",
    "\n",
    "for qbitI in range(4):\n",
    "    # first, create the entangled pair\n",
    "    # circuit_to_gate\n",
    "\n",
    "    # build the bell state\n",
    "    circuit = QuantumCircuit(2)\n",
    "    circuit.x(0)\n",
    "    circuit.h(0)\n",
    "    circuit.cx(0, 1)\n",
    "    circuit.x(0)\n",
    "\n",
    "    show_latex(circuit, 2)\n",
    "    display(circuit.draw(\"mpl\"))\n",
    "    \n",
    "    \n",
    "    # Alice chooses an operator Ai randomly from her set of three\n",
    "    if random30() == 1:\n",
    "        i = 0\n",
    "        circuit.x(0)\n",
    "    else if random30() == 1:\n",
    "        i = 1\n",
    "        circuit.w(0)\n",
    "    else:\n",
    "        i = 2\n",
    "        circuit.z(0)\n",
    "\n",
    "    # Bob chooses an operator Bi randomly from his set of three\n",
    "    if random30() == 1:\n",
    "        j = 0\n",
    "        circuit.x(1)\n",
    "    else if random30() == 1:\n",
    "        j = 1\n",
    "        circuit.w(1)\n",
    "    else:\n",
    "        j = 2\n",
    "        circuit.z(1)\n",
    "\n",
    "\n",
    "    circuit.measure_all()\n",
    "    backend = BasicSimulator()\n",
    "    compiled = transpile(circuit, backend)\n",
    "    job_sim = backend.run(compiled, shots=1)\n",
    "    results_sim = job_sim.result()\n",
    "    counts = results_sim.get_counts()\n",
    "    measurements = list(counts.keys())\n",
    "\n",
    "    # operator choices are shared now.\n",
    "\n",
    "    if (i == 2 and j == 1) or (i == 3 and j == 2):\n",
    "        finalKey.append(measurements)\n",
    "    else:\n",
    "        measurements = [val * -2 + 1 for val in measurements]\n",
    "        S[i, j] += measurements[0] * measurements[1]\n",
    "            \n",
    "    break\n",
    "\n",
    "Ssum = math.abs(S[[1, 1]] - s[[1, 3]] + S[[3, 1]] + S[[3, 3]])"
   ]
  }
 ],
 "metadata": {
  "kernelspec": {
   "display_name": "Python 3 [qBraid]",
   "language": "python",
   "name": "python3_qbraid_sdk_9j9sjy"
  },
  "language_info": {
   "codemirror_mode": {
    "name": "ipython",
    "version": 3
   },
   "file_extension": ".py",
   "mimetype": "text/x-python",
   "name": "python",
   "nbconvert_exporter": "python",
   "pygments_lexer": "ipython3",
   "version": "3.11.9"
  }
 },
 "nbformat": 4,
 "nbformat_minor": 5
}
